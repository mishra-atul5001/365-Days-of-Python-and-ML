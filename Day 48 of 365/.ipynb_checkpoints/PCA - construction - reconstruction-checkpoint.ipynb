{
 "cells": [
  {
   "cell_type": "markdown",
   "id": "concerned-declaration",
   "metadata": {},
   "source": [
    "### In this notebook we intedn to explore the below points:  \n",
    "\n",
    "- PCA *(SVD and NIPALS)* on a **less** correlated dataset  \n",
    "- Then we intend to **reconstruct the original features** back from PRINCIPAL COMPONENTS. \n",
    "- Then we will find the **RECONSTRUCTION** error with respect to each feature.  "
   ]
  },
  {
   "cell_type": "code",
   "execution_count": 6,
   "id": "disciplinary-principal",
   "metadata": {},
   "outputs": [],
   "source": [
    "import pandas as pd\n",
    "import numpy as np\n",
    "import random\n",
    "import seaborn as sns\n",
    "import matplotlib.pyplot as plt\n",
    "from sklearn.decomposition import PCA as SVD_PCA\n",
    "from statsmodels.multivariate.pca import PCA as NIPALS_PCA\n",
    "from sklearn.model_selection import train_test_split\n",
    "from sklearn.metrics import r2_score,mean_squared_error\n",
    "import warnings\n",
    "\n",
    "\n",
    "# creating a Random Dataset of 2 features which are least correlated\n",
    "\n",
    "col_A = random.sample(range(-10, 70), 50)\n",
    "col_B = random.sample(range(120, 190), 50)\n",
    "\n",
    "df = pd.DataFrame(columns=['col_A','col_B'])\n",
    "df['col_A'] = col_A\n",
    "df['col_B'] = col_B\n",
    "warnings.filterwarnings('ignore')"
   ]
  },
  {
   "cell_type": "code",
   "execution_count": 7,
   "id": "modified-royalty",
   "metadata": {},
   "outputs": [
    {
     "data": {
      "image/png": "[encoded data removed]",
      "text/plain": [
       "<Figure size 360x360 with 6 Axes>"
      ]
     },
     "metadata": {
      "needs_background": "light"
     },
     "output_type": "display_data"
    }
   ],
   "source": [
    "sns.pairplot(df);"
   ]
  },
  {
   "cell_type": "code",
   "execution_count": 8,
   "id": "pressed-filter",
   "metadata": {},
   "outputs": [
    {
     "data": {
      "image/png": "[encoded data removed]",
      "text/plain": [
       "<Figure size 432x288 with 2 Axes>"
      ]
     },
     "metadata": {
      "needs_background": "light"
     },
     "output_type": "display_data"
    }
   ],
   "source": [
    "sns.heatmap(df.corr(),annot=True);\n",
    "plt.show()"
   ]
  },
  {
   "cell_type": "markdown",
   "id": "faced-liability",
   "metadata": {},
   "source": [
    "### Applying PCA"
   ]
  },
  {
   "cell_type": "code",
   "execution_count": 9,
   "id": "competitive-island",
   "metadata": {},
   "outputs": [],
   "source": [
    "class svd_pca:\n",
    "    def preprocess_data(df):\n",
    "        def normalize(x):\n",
    "            return((x-np.min(x))/(max(x) - min(x)))\n",
    "\n",
    "        df = df.apply(normalize)\n",
    "\n",
    "        training_set, testing_set = train_test_split(df, train_size=0.7,test_size=0.3,random_state=100)\n",
    "    \n",
    "        return training_set, testing_set, df\n",
    "\n",
    "    def apply_pca(dataset):\n",
    "    \n",
    "        # Contructing PCA\n",
    "        pca_svd = SVD_PCA(svd_solver='randomized' , random_state=42)\n",
    "        pca_svd.fit(dataset)\n",
    "        # Reconstructing the same\n",
    "        val_recons = pd.DataFrame(pca_svd.inverse_transform(pca_svd.fit_transform(dataset)),columns = ['col_A','col_B'])\n",
    "        for i in dataset.columns:\n",
    "            original_series = dataset[i].values\n",
    "            pca_series = val_recons[i].values\n",
    "            r2_val = round(r2_score(original_series,pca_series),2)\n",
    "            rmse = round(mean_squared_error(original_series,pca_series),2)\n",
    "\n",
    "            print('R2 score is {}, RMSE score is {} for column {} while performing SVD PCA.'.format(r2_val,rmse,i))\n",
    "\n",
    "        return pca_svd\n",
    "    \n",
    "    def apply_nipals_pca(dataset):\n",
    "    \n",
    "        # Contructing PCA\n",
    "        print()\n",
    "        pca_nipals = NIPALS_PCA(dataset, method='nipals',standardize = False,demean = False,normalize = False)\n",
    "        # pca_svd.fit(dataset)\n",
    "       \n",
    "        # X_train_new = pd.DataFrame(np.dot(processed_data_train,pca_nipals.eigenvecs),index=processed_data_train.index).add_prefix('comp_')\n",
    "        for i in dataset.columns:\n",
    "            original_series = dataset[i].values\n",
    "            pca_series = pca_nipals.projection[i].values\n",
    "            r2_val = round(r2_score(original_series,pca_series),2)\n",
    "            rmse = round(mean_squared_error(original_series,pca_series),2)\n",
    "\n",
    "            print('R2 score is {}, RMSE score is {} for column {} while performing NIPALS PCA.'.format(r2_val,rmse,i))\n",
    "\n",
    "        return pca_nipals"
   ]
  },
  {
   "cell_type": "code",
   "execution_count": 10,
   "id": "sonic-switzerland",
   "metadata": {},
   "outputs": [
    {
     "name": "stdout",
     "output_type": "stream",
     "text": [
      "R2 score is 1.0, RMSE score is 0.0 for column col_A while performing SVD PCA.\n",
      "R2 score is 1.0, RMSE score is 0.0 for column col_B while performing SVD PCA.\n",
      "\n",
      "R2 score is 1.0, RMSE score is 0.0 for column col_A while performing NIPALS PCA.\n",
      "R2 score is 1.0, RMSE score is 0.0 for column col_B while performing NIPALS PCA.\n",
      "\n",
      "Performing PCA on full dataset!\n",
      "R2 score is 1.0, RMSE score is 0.0 for column col_A while performing SVD PCA.\n",
      "R2 score is 1.0, RMSE score is 0.0 for column col_B while performing SVD PCA.\n",
      "\n",
      "R2 score is 1.0, RMSE score is 0.0 for column col_A while performing NIPALS PCA.\n",
      "R2 score is 1.0, RMSE score is 0.0 for column col_B while performing NIPALS PCA.\n"
     ]
    }
   ],
   "source": [
    "# Preprocessing the data\n",
    "svd_pca_init = svd_pca\n",
    "processed_data_train,processed_data_test, processed_data_full = svd_pca_init.preprocess_data(df)\n",
    "\n",
    "# Calling the SVD PCA\n",
    "SVD_PCA_result = svd_pca_init.apply_pca(processed_data_train)\n",
    "\n",
    "# Calling the NIPALS PCA\n",
    "NIPALS_PCA_result = svd_pca_init.apply_nipals_pca(processed_data_train)\n",
    "\n",
    "# Applying SVD and NIPALS on full dataset\n",
    "print('\\nPerforming PCA on full dataset!')\n",
    "# Calling the SVD PCA\n",
    "SVD_PCA_result = svd_pca_init.apply_pca(processed_data_full)\n",
    "\n",
    "# Calling the NIPALS PCA\n",
    "NIPALS_PCA_result = svd_pca_init.apply_nipals_pca(processed_data_full)"
   ]
  },
  {
   "cell_type": "markdown",
   "id": "signed-lancaster",
   "metadata": {},
   "source": [
    "### Results:  \n",
    "1. If we have a NON-Correlated Dataset, the transformations are almost equal to the original values.  \n",
    "2. The Reconstruction error is also very low/zero, because all the features are independetly projected.  \n",
    "3. This was a POC work which was performed on **Sensor Readings** to find the timestamps of readings where a reading recorded might be noise and hence we can engineer our data much better for ML Modelling process.  \n",
    "4. This is a scratch notebook for anyone trying to understand the PCA components."
   ]
  }
 ],
 "metadata": {
  "kernelspec": {
   "display_name": "Python 3",
   "language": "python",
   "name": "python3"
  },
  "language_info": {
   "codemirror_mode": {
    "name": "ipython",
    "version": 3
   },
   "file_extension": ".py",
   "mimetype": "text/x-python",
   "name": "python",
   "nbconvert_exporter": "python",
   "pygments_lexer": "ipython3",
   "version": "3.7.9"
  }
 },
 "nbformat": 4,
 "nbformat_minor": 5
}
